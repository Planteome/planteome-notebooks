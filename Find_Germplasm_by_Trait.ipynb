{
 "cells": [
  {
   "cell_type": "code",
   "execution_count": 2,
   "metadata": {},
   "outputs": [
    {
     "data": {
      "text/plain": [
       "'http://browser.planteome.org/solr'"
      ]
     },
     "execution_count": 2,
     "metadata": {},
     "output_type": "execute_result"
    }
   ],
   "source": [
    "## Check configuration is set up to use planteome Golr\n",
    "from ontobio.config import get_config\n",
    "get_config().solr_assocs.url"
   ]
  },
  {
   "cell_type": "code",
   "execution_count": 3,
   "metadata": {},
   "outputs": [
    {
     "name": "stderr",
     "output_type": "stream",
     "text": [
      "/Users/cjm/repos/Planteome/planteome-notebooks/venv/lib/python3.5/site-packages/cachier/mongo_core.py:24: UserWarning: Cachier warning: pymongo was not found. MongoDB cores will not work.\n",
      "  \"Cachier warning: pymongo was not found. MongoDB cores will not work.\")\n"
     ]
    }
   ],
   "source": [
    "## Create an ontology factory in order to fetch plant trait ontology\n",
    "from ontobio.ontol_factory import OntologyFactory\n",
    "\n",
    "ofactory = OntologyFactory()\n",
    "ont = ofactory.create(\"to\")  # Trait Ontology id in OBO"
   ]
  },
  {
   "cell_type": "code",
   "execution_count": 41,
   "metadata": {},
   "outputs": [],
   "source": [
    "MAIZE = 'NCBITaxon:381124'  ## Maize\n",
    "## Create an association factory to get gene-phenotype associations\n",
    "from ontobio.assoc_factory import AssociationSetFactory\n",
    "afactory = AssociationSetFactory()\n",
    "## Load Associations from Planteome. Note the first time this runs Jupyter will show '*' - be patient\n",
    "aset = afactory.create(ontology=ont, subject_category='gene', object_category='phenotype', taxon=MAIZE)"
   ]
  },
  {
   "cell_type": "code",
   "execution_count": 42,
   "metadata": {},
   "outputs": [
    {
     "data": {
      "text/plain": [
       "{}"
      ]
     },
     "execution_count": 42,
     "metadata": {},
     "output_type": "execute_result"
    }
   ],
   "source": [
    "aset.association_map"
   ]
  },
  {
   "cell_type": "code",
   "execution_count": 32,
   "metadata": {},
   "outputs": [],
   "source": [
    "[trait] = ont.search('water stress trait')"
   ]
  },
  {
   "cell_type": "code",
   "execution_count": 33,
   "metadata": {},
   "outputs": [
    {
     "data": {
      "text/plain": [
       "'TO:0000237'"
      ]
     },
     "execution_count": 33,
     "metadata": {},
     "output_type": "execute_result"
    }
   ],
   "source": [
    "trait"
   ]
  },
  {
   "cell_type": "code",
   "execution_count": 34,
   "metadata": {},
   "outputs": [
    {
     "data": {
      "text/plain": [
       "[]"
      ]
     },
     "execution_count": 34,
     "metadata": {},
     "output_type": "execute_result"
    }
   ],
   "source": [
    "aset.query([trait])"
   ]
  },
  {
   "cell_type": "code",
   "execution_count": 35,
   "metadata": {},
   "outputs": [
    {
     "data": {
      "text/plain": [
       "'awn color'"
      ]
     },
     "execution_count": 35,
     "metadata": {},
     "output_type": "execute_result"
    }
   ],
   "source": [
    "ont.label('TO:0000141')"
   ]
  },
  {
   "cell_type": "code",
   "execution_count": 36,
   "metadata": {
    "collapsed": true
   },
   "outputs": [],
   "source": [
    "sample_genes = aset.subjects[0:20]"
   ]
  },
  {
   "cell_type": "code",
   "execution_count": 37,
   "metadata": {},
   "outputs": [
    {
     "data": {
      "text/plain": [
       "['GRIN:1196842',\n",
       " 'GRIN:1406369',\n",
       " 'GRIN:1043018',\n",
       " 'GRIN:1874312',\n",
       " 'GRIN:1098752',\n",
       " 'GRIN:1169121',\n",
       " 'GRIN:1445383',\n",
       " 'GRIN:1396084',\n",
       " 'GRIN:1396092',\n",
       " 'GRIN:1179457',\n",
       " 'GRIN:1410281',\n",
       " 'GRIN:1380091',\n",
       " 'GRIN:1340270',\n",
       " 'GRIN:1557050',\n",
       " 'GRIN:1431456',\n",
       " 'GRIN:1140260',\n",
       " 'GRIN:1422402',\n",
       " 'GRIN:1374081',\n",
       " 'GRIN:1374047',\n",
       " 'GRIN:1175907']"
      ]
     },
     "execution_count": 37,
     "metadata": {},
     "output_type": "execute_result"
    }
   ],
   "source": [
    "sample_genes"
   ]
  },
  {
   "cell_type": "code",
   "execution_count": 38,
   "metadata": {},
   "outputs": [
    {
     "name": "stdout",
     "output_type": "stream",
     "text": [
      "GRIN:1196842 PI 257511\n",
      "  TO:0002629 fruit morphology trait\n",
      "  TO:0000068 lodging incidence\n",
      "  TO:0000315 bacterial disease resistance\n",
      "  TO:0000604 fat and essential oil content\n",
      "  TO:0000797 tassel inflorescence height\n",
      "  TO:0000969 ear inflorescence morphology trait\n",
      "  TO:0002617 fruit color\n",
      "  TO:0000133 stature or vigor trait\n",
      "  TO:0000924 cob color\n",
      "  TO:0002746 fruit weight\n",
      "  TO:0000687 kernel row number per ear\n",
      "  TO:0000658 days to silk\n",
      "  TO:0000439 fungal disease resistance\n",
      "GRIN:1406369 PI 511433\n",
      "  TO:0000439 fungal disease resistance\n",
      "GRIN:1043018 Ames 8273\n",
      "  TO:0000315 bacterial disease resistance\n",
      "  TO:0000604 fat and essential oil content\n",
      "GRIN:1874312 Ames 30934\n",
      "  TO:0000487 endosperm color\n",
      "  TO:0002629 fruit morphology trait\n",
      "  TO:0002730 grain shape\n",
      "  TO:0002617 fruit color\n",
      "  TO:0000969 ear inflorescence morphology trait\n",
      "  TO:0000924 cob color\n",
      "  TO:0000943 aleurone layer color\n",
      "  TO:0000707 pericarp color\n",
      "  TO:0000687 kernel row number per ear\n",
      "  TO:0000439 fungal disease resistance\n",
      "GRIN:1098752 NSL 29898\n",
      "  TO:0000487 endosperm color\n",
      "  TO:0002629 fruit morphology trait\n",
      "  TO:0002730 grain shape\n",
      "  TO:0002617 fruit color\n",
      "  TO:0000969 ear inflorescence morphology trait\n",
      "  TO:0000924 cob color\n",
      "  TO:0000943 aleurone layer color\n",
      "  TO:0000707 pericarp color\n",
      "  TO:0000687 kernel row number per ear\n",
      "  TO:0000439 fungal disease resistance\n",
      "GRIN:1169121 PI 200288\n",
      "  TO:0002629 fruit morphology trait\n",
      "  TO:0000068 lodging incidence\n",
      "  TO:0002617 fruit color\n",
      "  TO:0000969 ear inflorescence morphology trait\n",
      "  TO:0000797 tassel inflorescence height\n",
      "  TO:0000346 tiller number\n",
      "  TO:0000133 stature or vigor trait\n",
      "  TO:0000924 cob color\n",
      "  TO:0002746 fruit weight\n",
      "  TO:0000687 kernel row number per ear\n",
      "  TO:0000658 days to silk\n",
      "  TO:0000439 fungal disease resistance\n",
      "GRIN:1445383 PI 550447\n",
      "  TO:0000487 endosperm color\n",
      "  TO:0002629 fruit morphology trait\n",
      "  TO:0002730 grain shape\n",
      "  TO:0000315 bacterial disease resistance\n",
      "  TO:0000604 fat and essential oil content\n",
      "  TO:0000969 ear inflorescence morphology trait\n",
      "  TO:0002617 fruit color\n",
      "  TO:0000924 cob color\n",
      "  TO:0000943 aleurone layer color\n",
      "  TO:0002746 fruit weight\n",
      "  TO:0000707 pericarp color\n",
      "  TO:0000687 kernel row number per ear\n",
      "  TO:0000439 fungal disease resistance\n",
      "GRIN:1396084 PI 501148\n",
      "  TO:0000487 endosperm color\n",
      "  TO:0002629 fruit morphology trait\n",
      "  TO:0002730 grain shape\n",
      "  TO:0002617 fruit color\n",
      "  TO:0000969 ear inflorescence morphology trait\n",
      "  TO:0000924 cob color\n",
      "  TO:0000943 aleurone layer color\n",
      "  TO:0000707 pericarp color\n",
      "  TO:0000687 kernel row number per ear\n",
      "GRIN:1396092 PI 501156\n",
      "  TO:0000487 endosperm color\n",
      "  TO:0002629 fruit morphology trait\n",
      "  TO:0002730 grain shape\n",
      "  TO:0002617 fruit color\n",
      "  TO:0000969 ear inflorescence morphology trait\n",
      "  TO:0000924 cob color\n",
      "  TO:0000943 aleurone layer color\n",
      "  TO:0000707 pericarp color\n",
      "  TO:0000687 kernel row number per ear\n",
      "GRIN:1179457 PI 221704\n",
      "  TO:0002629 fruit morphology trait\n",
      "  TO:0000068 lodging incidence\n",
      "  TO:0000315 bacterial disease resistance\n",
      "  TO:0000604 fat and essential oil content\n",
      "  TO:0000797 tassel inflorescence height\n",
      "  TO:0000969 ear inflorescence morphology trait\n",
      "  TO:0002617 fruit color\n",
      "  TO:0000346 tiller number\n",
      "  TO:0000133 stature or vigor trait\n",
      "  TO:0000924 cob color\n",
      "  TO:0002746 fruit weight\n",
      "  TO:0000687 kernel row number per ear\n",
      "  TO:0000658 days to silk\n",
      "  TO:0000439 fungal disease resistance\n",
      "GRIN:1410281 PI 515345\n",
      "  TO:0002629 fruit morphology trait\n",
      "  TO:0000604 fat and essential oil content\n",
      "  TO:0000924 cob color\n",
      "  TO:0002617 fruit color\n",
      "GRIN:1380091 PI 485155\n",
      "  TO:0002746 fruit weight\n",
      "GRIN:1340270 PI 445334\n",
      "  TO:0002746 fruit weight\n",
      "GRIN:1557050 Ames 24718\n",
      "  TO:0000487 endosperm color\n",
      "  TO:0002629 fruit morphology trait\n",
      "  TO:0002730 grain shape\n",
      "  TO:0000315 bacterial disease resistance\n",
      "  TO:0000604 fat and essential oil content\n",
      "  TO:0000797 tassel inflorescence height\n",
      "  TO:0000969 ear inflorescence morphology trait\n",
      "  TO:0002617 fruit color\n",
      "  TO:0000346 tiller number\n",
      "  TO:0000924 cob color\n",
      "  TO:0000943 aleurone layer color\n",
      "  TO:0002746 fruit weight\n",
      "  TO:0000707 pericarp color\n",
      "  TO:0000687 kernel row number per ear\n",
      "GRIN:1431456 PI 536520\n",
      "  TO:0000487 endosperm color\n",
      "  TO:0002629 fruit morphology trait\n",
      "  TO:0002730 grain shape\n",
      "  TO:0000315 bacterial disease resistance\n",
      "  TO:0000604 fat and essential oil content\n",
      "  TO:0000969 ear inflorescence morphology trait\n",
      "  TO:0002617 fruit color\n",
      "  TO:0000924 cob color\n",
      "  TO:0000943 aleurone layer color\n",
      "  TO:0000707 pericarp color\n",
      "  TO:0000687 kernel row number per ear\n",
      "GRIN:1140260 PI 162928\n",
      "  TO:0000487 endosperm color\n",
      "  TO:0002629 fruit morphology trait\n",
      "  TO:0000068 lodging incidence\n",
      "  TO:0000315 bacterial disease resistance\n",
      "  TO:0000604 fat and essential oil content\n",
      "  TO:0000797 tassel inflorescence height\n",
      "  TO:0000969 ear inflorescence morphology trait\n",
      "  TO:0002617 fruit color\n",
      "  TO:0002730 grain shape\n",
      "  TO:0000346 tiller number\n",
      "  TO:0000133 stature or vigor trait\n",
      "  TO:0000924 cob color\n",
      "  TO:0000943 aleurone layer color\n",
      "  TO:0002746 fruit weight\n",
      "  TO:0000707 pericarp color\n",
      "  TO:0000687 kernel row number per ear\n",
      "  TO:0000658 days to silk\n",
      "  TO:0000439 fungal disease resistance\n",
      "GRIN:1422402 PI 527466\n",
      "  TO:0000487 endosperm color\n",
      "  TO:0002629 fruit morphology trait\n",
      "  TO:0002730 grain shape\n",
      "  TO:0000315 bacterial disease resistance\n",
      "  TO:0000604 fat and essential oil content\n",
      "  TO:0000969 ear inflorescence morphology trait\n",
      "  TO:0002617 fruit color\n",
      "  TO:0000924 cob color\n",
      "  TO:0000943 aleurone layer color\n",
      "  TO:0002746 fruit weight\n",
      "  TO:0000707 pericarp color\n",
      "  TO:0000687 kernel row number per ear\n",
      "GRIN:1374081 PI 479145\n",
      "  TO:0000598 protein content\n",
      "  TO:0000696 starch content\n",
      "  TO:0000315 bacterial disease resistance\n",
      "  TO:0000148 viral disease resistance\n",
      "  TO:0000604 fat and essential oil content\n",
      "  TO:0000797 tassel inflorescence height\n",
      "  TO:0000969 ear inflorescence morphology trait\n",
      "  TO:0002746 fruit weight\n",
      "  TO:0000658 days to silk\n",
      "  TO:0000439 fungal disease resistance\n",
      "GRIN:1374047 PI 479111\n",
      "  TO:0000487 endosperm color\n",
      "  TO:0002629 fruit morphology trait\n",
      "  TO:0002730 grain shape\n",
      "  TO:0002617 fruit color\n",
      "  TO:0000969 ear inflorescence morphology trait\n",
      "  TO:0000924 cob color\n",
      "  TO:0000943 aleurone layer color\n",
      "  TO:0000707 pericarp color\n",
      "  TO:0000687 kernel row number per ear\n",
      "GRIN:1175907 PI 213713\n",
      "  TO:0002629 fruit morphology trait\n",
      "  TO:0000068 lodging incidence\n",
      "  TO:0000604 fat and essential oil content\n",
      "  TO:0000969 ear inflorescence morphology trait\n",
      "  TO:0000797 tassel inflorescence height\n",
      "  TO:0002617 fruit color\n",
      "  TO:0000346 tiller number\n",
      "  TO:0000133 stature or vigor trait\n",
      "  TO:0000924 cob color\n",
      "  TO:0002746 fruit weight\n",
      "  TO:0000687 kernel row number per ear\n",
      "  TO:0000658 days to silk\n",
      "  TO:0000439 fungal disease resistance\n"
     ]
    }
   ],
   "source": [
    "for g in sample_genes:\n",
    "    print('{} {}'.format(g, aset.label(g)))\n",
    "    anns = aset.annotations(g)\n",
    "    for a in anns:\n",
    "        print('  {} {}'.format(a, ont.label(a)))"
   ]
  },
  {
   "cell_type": "code",
   "execution_count": 39,
   "metadata": {},
   "outputs": [
    {
     "data": {
      "text/plain": [
       "{'GRIN'}"
      ]
     },
     "execution_count": 39,
     "metadata": {},
     "output_type": "execute_result"
    }
   ],
   "source": [
    "s=set()\n",
    "for x in aset.subjects:\n",
    "    parts = x.split(\":\")\n",
    "    s.add(parts[0])\n",
    "    \n",
    "s"
   ]
  },
  {
   "cell_type": "code",
   "execution_count": 40,
   "metadata": {},
   "outputs": [
    {
     "data": {
      "text/plain": [
       "['CHEBI:33694 biomacromolecule',\n",
       " 'TO:0000604 fat and essential oil content',\n",
       " 'TO:0000836 multi-tissue plant structure morphology trait',\n",
       " 'CHEBI:27594 carbon atom',\n",
       " 'TO:0000924 cob color',\n",
       " 'TO:0000597 quality trait',\n",
       " 'PATO:0000117 size',\n",
       " 'TO:0006007 polysaccharide content',\n",
       " 'PATO:0001708 1-D extent',\n",
       " 'PO:0025496 multi-tissue plant structure',\n",
       " 'CHEBI:63299 carbohydrate derivative',\n",
       " 'http://www.w3.org/2002/07/owl#Thing None',\n",
       " 'PO:0025127 primordium',\n",
       " 'PO:0009001 fruit',\n",
       " 'CHEBI:28017 starch',\n",
       " 'CHEBI:76971 Escherichia coli metabolite',\n",
       " 'CHEBI:33303 chalcogen',\n",
       " 'CHEBI:24432 biological role',\n",
       " 'CHEBI:33285 heteroorganic entity',\n",
       " 'PO:0020148 shoot apical meristem',\n",
       " 'CHEBI:36343 composite particle',\n",
       " 'CHEBI:52211 physiological role',\n",
       " 'PO:0009008 plant organ',\n",
       " 'CHEBI:28057 amylopectin',\n",
       " 'TO:0000933 plant phenological trait',\n",
       " 'TO:0000788 tassel inflorescence morphology trait',\n",
       " 'PO:0009011 plant structure',\n",
       " 'TO:0000133 stature or vigor trait',\n",
       " 'CHEBI:25212 metabolite',\n",
       " 'PATO:0000014 color',\n",
       " 'TO:0000236 crop damage resistance',\n",
       " 'TO:0000839 plant structure morphology trait',\n",
       " 'PO:0025029 shoot axis',\n",
       " 'CHEBI:33253 nucleon',\n",
       " 'TO:0000736 plant organ morphology trait',\n",
       " 'PATO:0000025 composition',\n",
       " 'TO:0000598 protein content',\n",
       " 'TO:0002629 fruit morphology trait',\n",
       " 'PO:0025606 native plant cell',\n",
       " 'CHEBI:33839 macromolecule',\n",
       " 'CHEBI:33250 atom',\n",
       " 'PATO:0000052 shape',\n",
       " 'PATO:0000051 morphology',\n",
       " 'TO:0006031 inflorescence size',\n",
       " 'PATO:0000001 quality',\n",
       " 'PO:0020003 plant ovule',\n",
       " 'CHEBI:33675 p-block molecular entity',\n",
       " 'CHEBI:10545 electron',\n",
       " 'CHEBI:37163 glucan',\n",
       " 'PO:0009010 seed',\n",
       " 'TO:0000920 infructescence morphology trait',\n",
       " 'TO:0000658 days to silk',\n",
       " 'NCBITaxon:131567 cellular organisms',\n",
       " 'TO:0000943 aleurone layer color',\n",
       " 'TO:0000687 kernel row number per ear',\n",
       " 'PO:0020136 ear inflorescence',\n",
       " 'PATO:0000141 structure',\n",
       " 'TO:0000487 endosperm color',\n",
       " 'PO:0025601 staminate inflorescence',\n",
       " 'TO:0000575 endosperm morphology trait',\n",
       " 'TO:0000921 infructescence axis morphology trait',\n",
       " 'CHEBI:33318 main group element atom',\n",
       " 'CHEBI:33937 macronutrient',\n",
       " 'CHEBI:36347 nuclear particle',\n",
       " 'CHEBI:33560 p-block element atom',\n",
       " 'CHEBI:24433 group',\n",
       " 'PO:0025497 collective plant structure',\n",
       " 'CHEBI:36962 organochalcogen compound',\n",
       " 'TO:0000371 yield trait',\n",
       " 'CHEBI:78616 carbohydrates and carbohydrate derivatives',\n",
       " 'TO:0000017 plant morphology trait',\n",
       " 'TO:0000281 metabolite content trait',\n",
       " 'CHEBI:33579 main group molecular entity',\n",
       " 'PO:0008028 reproductive shoot apical meristem',\n",
       " 'NCBITaxon:1 root',\n",
       " 'PO:0009009 plant embryo',\n",
       " 'CHEBI:36342 subatomic particle',\n",
       " 'PO:0009062 gynoecium',\n",
       " 'PO:0009084 pericarp',\n",
       " 'PO:0020126 tassel inflorescence',\n",
       " 'PO:0025338 collective plant organ structure development stage',\n",
       " 'TO:0002746 fruit weight',\n",
       " 'PATO:0001241 physical object quality',\n",
       " 'TO:0002728 fruit quality trait',\n",
       " 'TO:0000707 pericarp color',\n",
       " 'TO:0000738 plant axis morphology trait',\n",
       " 'CHEBI:52206 biochemical role',\n",
       " 'TO:0000373 inflorescence morphology trait',\n",
       " 'TO:0000682 inflorescence height',\n",
       " 'PO:0009049 inflorescence',\n",
       " 'PO:0025082 reproductive shoot system',\n",
       " 'CHEBI:25585 nonmetal atom',\n",
       " 'TO:0000179 biotic stress trait',\n",
       " 'PATO:0001300 optical quality',\n",
       " 'CHEBI:75763 eukaryotic metabolite',\n",
       " 'PATO:0001291 electromagnetic (EM) radiation quality',\n",
       " 'TO:0000077 shoot system morphology trait',\n",
       " 'CHEBI:75787 prokaryotic metabolite',\n",
       " 'TO:0000327 shoot system yield trait',\n",
       " 'CHEBI:16646 carbohydrate',\n",
       " 'CHEBI:33233 fundamental particle',\n",
       " 'CHEBI:33304 chalcogen molecular entity',\n",
       " 'TO:0000488 seed composition quality trait',\n",
       " 'PO:0025597 ear infructescence',\n",
       " 'TO:0000489 carbohydrate composition related trait',\n",
       " 'CHEBI:50860 organic molecular entity',\n",
       " 'CHEBI:28102 amylose',\n",
       " 'CHEBI:23367 molecular entity',\n",
       " 'TO:0000739 shoot axis morphology trait',\n",
       " 'PO:0005360 aleurone layer',\n",
       " 'TO:0000942 aleurone layer morphology trait',\n",
       " 'CHEBI:36357 polyatomic entity',\n",
       " 'PO:0006210 protoderm',\n",
       " 'CHEBI:25805 oxygen atom',\n",
       " 'CHEBI:36963 organooxygen compound',\n",
       " 'PO:0025527 shoot system development stage',\n",
       " 'PO:0025598 pistillate inflorescence',\n",
       " 'CHEBI:75768 mammalian metabolite',\n",
       " 'TO:0000842 collective plant organ structure morphology trait',\n",
       " 'TO:0002616 flowering time trait',\n",
       " 'TO:0000112 disease resistance',\n",
       " 'TO:0000944 aleurone layer appearance',\n",
       " 'PATO:0001035 force',\n",
       " 'CHEBI:76924 plant metabolite',\n",
       " 'PO:0009007 portion of plant tissue',\n",
       " 'PO:0025242 infructescence axis',\n",
       " 'TO:0000969 ear inflorescence morphology trait',\n",
       " 'TO:0000168 abiotic stress trait',\n",
       " 'TO:0000357 plant growth and development trait',\n",
       " 'PO:0025599 pistillate flower',\n",
       " 'CHEBI:75771 mouse metabolite',\n",
       " 'TO:0000786 reproductive shoot system morphology trait',\n",
       " 'TO:0000439 fungal disease resistance',\n",
       " 'CHEBI:33306 carbon group element atom',\n",
       " 'TO:0000936 infructescence yield trait',\n",
       " 'TO:0000976 ear infructescence morphology trait',\n",
       " 'NCBITaxon:33090 Viridiplantae',\n",
       " 'TO:0000068 lodging incidence',\n",
       " 'TO:0002617 fruit color',\n",
       " 'PO:0000018 ovule primordium',\n",
       " 'PO:0009089 endosperm',\n",
       " 'CHEBI:37164 homopolysaccharide',\n",
       " 'TO:0000387 plant trait',\n",
       " 'PATO:0000128 weight',\n",
       " 'PO:0004010 meristematic cell',\n",
       " 'PO:0009012 plant structure development stage',\n",
       " 'CHEBI:36339 baryon',\n",
       " 'PO:0020122 inflorescence axis',\n",
       " 'PO:0009002 plant cell',\n",
       " 'CHEBI:78295 food component',\n",
       " 'TO:0000315 bacterial disease resistance',\n",
       " 'PO:0025222 reproductive shoot apex',\n",
       " 'TO:0000840 collective plant structure morphology trait',\n",
       " 'PATO:0001018 physical quality',\n",
       " 'PO:0000003 whole plant',\n",
       " 'TO:0002730 grain shape',\n",
       " 'TO:0000797 tassel inflorescence height',\n",
       " 'CHEBI:25806 oxygen molecular entity',\n",
       " 'CHEBI:18154 polysaccharide',\n",
       " 'CHEBI:76969 bacterial metabolite',\n",
       " 'TO:0000359 female flowering',\n",
       " 'TO:0000291 carbohydrate content',\n",
       " 'PO:0025023 collective phyllome structure',\n",
       " 'TO:0000346 tiller number',\n",
       " 'TO:0000945 pericarp morphology trait',\n",
       " 'CHEBI:65212 polysaccharide derivative',\n",
       " 'PO:0025007 collective plant organ structure',\n",
       " 'TO:0000164 stress trait',\n",
       " 'PO:0020144 apical meristem',\n",
       " 'PATO:0000119 height',\n",
       " 'CHEBI:24431 chemical entity',\n",
       " 'PO:0025477 floral organ primordium',\n",
       " 'CHEBI:33284 nutrient',\n",
       " 'PATO:0001739 radiation quality',\n",
       " 'PO:0009013 portion of meristem tissue',\n",
       " 'PO:0009006 shoot system',\n",
       " 'PO:0006342 infructescence',\n",
       " 'PO:0000229 flower meristem',\n",
       " 'PO:0000019 gynoecium primordium',\n",
       " 'PO:0025530 reproductive shoot system development stage',\n",
       " 'NCBITaxon:2759 Eukaryota',\n",
       " 'CHEBI:50906 role',\n",
       " 'TO:0000344 days to flowering trait',\n",
       " 'CHEBI:36338 lepton',\n",
       " 'PO:0025131 plant anatomical entity',\n",
       " 'TO:0002628 fruit shape',\n",
       " 'TO:0000843 portion of plant tissue morphology trait',\n",
       " 'TO:0000148 viral disease resistance',\n",
       " 'TO:0000242 microbial damage resistance',\n",
       " 'TO:0000027 culm number',\n",
       " 'PO:0006079 shoot system meristem',\n",
       " 'CHEBI:33252 atomic nucleus',\n",
       " 'PO:0009046 flower',\n",
       " 'CHEBI:36340 fermion',\n",
       " 'CHEBI:33582 carbon group molecular entity',\n",
       " 'CHEBI:75767 animal metabolite',\n",
       " 'TO:0000931 seed quality trait',\n",
       " 'TO:0000277 biochemical trait',\n",
       " 'PO:0000037 shoot apex',\n",
       " 'PO:0001083 inflorescence development stage',\n",
       " 'PO:0025600 staminate flower',\n",
       " 'TO:0000696 starch content',\n",
       " 'CHEBI:36344 hadron',\n",
       " 'PO:0025004 plant axis']"
      ]
     },
     "execution_count": 40,
     "metadata": {},
     "output_type": "execute_result"
    }
   ],
   "source": [
    "['{} {}'.format(x, ont.label(x)) for x in aset.objects]"
   ]
  },
  {
   "cell_type": "code",
   "execution_count": null,
   "metadata": {
    "collapsed": true
   },
   "outputs": [],
   "source": []
  },
  {
   "cell_type": "code",
   "execution_count": null,
   "metadata": {
    "collapsed": true
   },
   "outputs": [],
   "source": []
  },
  {
   "cell_type": "code",
   "execution_count": null,
   "metadata": {
    "collapsed": true
   },
   "outputs": [],
   "source": []
  }
 ],
 "metadata": {
  "kernelspec": {
   "display_name": "Python 3",
   "language": "python",
   "name": "python3"
  },
  "language_info": {
   "codemirror_mode": {
    "name": "ipython",
    "version": 3
   },
   "file_extension": ".py",
   "mimetype": "text/x-python",
   "name": "python",
   "nbconvert_exporter": "python",
   "pygments_lexer": "ipython3",
   "version": "3.5.2"
  }
 },
 "nbformat": 4,
 "nbformat_minor": 2
}
